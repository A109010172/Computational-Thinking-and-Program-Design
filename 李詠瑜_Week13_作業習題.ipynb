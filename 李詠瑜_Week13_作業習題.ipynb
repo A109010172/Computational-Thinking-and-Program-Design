{
  "nbformat": 4,
  "nbformat_minor": 0,
  "metadata": {
    "kernelspec": {
      "display_name": "Python 3",
      "language": "python",
      "name": "python3"
    },
    "language_info": {
      "codemirror_mode": {
        "name": "ipython",
        "version": 3
      },
      "file_extension": ".py",
      "mimetype": "text/x-python",
      "name": "python",
      "nbconvert_exporter": "python",
      "pygments_lexer": "ipython3",
      "version": "3.8.5"
    },
    "colab": {
      "name": "李詠瑜 - Week13 - 作業習題.ipynb",
      "provenance": [],
      "include_colab_link": true
    }
  },
  "cells": [
    {
      "cell_type": "markdown",
      "metadata": {
        "id": "view-in-github",
        "colab_type": "text"
      },
      "source": [
        "<a href=\"https://colab.research.google.com/github/A109010172/Computational-Thinking-and-Program-Design/blob/main/%E6%9D%8E%E8%A9%A0%E7%91%9C_Week13_%E4%BD%9C%E6%A5%AD%E7%BF%92%E9%A1%8C.ipynb\" target=\"_parent\"><img src=\"https://colab.research.google.com/assets/colab-badge.svg\" alt=\"Open In Colab\"/></a>"
      ]
    },
    {
      "cell_type": "markdown",
      "metadata": {
        "id": "vY8k6GPtzNoi"
      },
      "source": [
        "**隨堂練習1： BMI 計算**\n",
        "\n",
        "請寫一個程式讓使用者輸入身高與體重，顯示BMI 值與肥胖程度。 BMI 等於體重（KG）除以身高（M）的平方，而BMI 與肥胖分類標準如下：\n",
        "\n",
        "若BMI 值小於18，則顯示「體重過輕」，否則若BMI 值小於24，則顯示「體重正常」，若BMI 值小於27，則顯示「體重過重」，否則顯示「體重肥胖」。"
      ]
    },
    {
      "cell_type": "code",
      "metadata": {
        "colab": {
          "base_uri": "https://localhost:8080/"
        },
        "id": "6sTdr81SzVNm",
        "outputId": "197799e4-e2ad-4b3d-8f42-1d4e4e45e027"
      },
      "source": [
        "bmi=21\n",
        "if bmi<18:\n",
        "  print(\"體重過輕\")\n",
        "elif bmi<24:\n",
        "  print(\"體重正常\")\n",
        "elif bmi<27:\n",
        "  print(\"體重過重\")"
      ],
      "execution_count": 2,
      "outputs": [
        {
          "output_type": "stream",
          "text": [
            "體重正常\n"
          ],
          "name": "stdout"
        }
      ]
    },
    {
      "cell_type": "markdown",
      "metadata": {
        "id": "CC_pqOVPzNou"
      },
      "source": [
        "**隨堂練習2： 三一律(單向選擇、雙向與巢狀選擇、多向選擇)**\n",
        "\n",
        "請輸入一個數，然後判斷這個數是正數、是負數或者是零。"
      ]
    },
    {
      "cell_type": "code",
      "metadata": {
        "colab": {
          "base_uri": "https://localhost:8080/"
        },
        "id": "FSf9jjqnzNov",
        "outputId": "3af73766-7638-4357-c502-8aff4f5b69b7"
      },
      "source": [
        "num=int(input(\"pick a number:\"))\n",
        "if num>0:\n",
        "  print(\"your number is positive.\")\n",
        "if num<0:\n",
        "  print(\"your number is negative.\")\n",
        "if num==0:\n",
        "  print(\"your number is zero.\")\n",
        "print(\"finished\")"
      ],
      "execution_count": 1,
      "outputs": [
        {
          "output_type": "stream",
          "text": [
            "pick a number:2\n",
            "your number is positive.\n",
            "finished\n"
          ],
          "name": "stdout"
        }
      ]
    },
    {
      "cell_type": "markdown",
      "metadata": {
        "id": "cO7QbfruzNow"
      },
      "source": [
        "**練習5   體溫與發燒**\n",
        "\n",
        "設計程式根據體溫判斷是否發燒，由使用者輸入體溫，程式判斷是否發燒，假設體溫小於36度，顯示「體溫過低」，體溫大於等於36度小於38度，顯示「體溫正常」，否則若體溫大於等於38度小於39度，顯示「體溫有點燒」，否則體溫大於等於39度，顯示「體溫很燒」。\n",
        "\n",
        "輸入體溫「36.5」，輸出為「體溫正常」。\n",
        "\n",
        "～程式執行結果如下。\n",
        "\n",
        "請輸入體溫？36.5\n",
        "\n",
        "體溫正常"
      ]
    },
    {
      "cell_type": "code",
      "metadata": {
        "colab": {
          "base_uri": "https://localhost:8080/"
        },
        "id": "5FW03pyMzNoy",
        "outputId": "45edda74-7e3e-4f76-e381-1dcdde62ae93"
      },
      "source": [
        "deg=int(input(\"請輸入體温:\"))\n",
        "if deg<36:\n",
        "  print(\"體温過低\")\n",
        "if (deg>=36) and (deg<38):\n",
        "  print(\"體温正常\")\n",
        "if (deg>=38) and (deg<39):\n",
        "  print(\"有點燒\")\n",
        "if deg>=39:\n",
        "  print(\"體温很燒\")\n",
        "print(\"finished\")\n"
      ],
      "execution_count": 30,
      "outputs": [
        {
          "output_type": "stream",
          "text": [
            "請輸入體温:36\n",
            "體温正常\n",
            "finished\n"
          ],
          "name": "stdout"
        }
      ]
    },
    {
      "cell_type": "markdown",
      "metadata": {
        "id": "xUYd5ndWzNoy"
      },
      "source": [
        "**練習6  閏年判斷**\n",
        "\n",
        "設計程式允許輸入西元幾年，請求出該年是否是閏年，閏年表示該年多一天，若為4的倍數稱做閏年，但若為100的倍數就不為閏年，且若為400倍數又是閏年。(四年一潤、百年不潤、四百年再潤)\n",
        "\n",
        "輸入年份「2012」，輸出為「2012是閏年」。\n",
        "\n",
        "～程式執行結果如下。\n",
        "\n",
        "請輸入年份？2012\n",
        "\n",
        "2012 是閏年"
      ]
    },
    {
      "cell_type": "code",
      "metadata": {
        "colab": {
          "base_uri": "https://localhost:8080/"
        },
        "id": "8xJ5-05DzNoz",
        "outputId": "6f9a7709-416d-45ef-dda1-7b2ae0bdffbe"
      },
      "source": [
        "year=int(input(\"請輸入年份\"))\n",
        "if(year%4)==0 and (year%100)!=0:\n",
        "  print(\"是潤年\")\n",
        "elif(year%400)==0:\n",
        "  print(\"是潤年\")\n",
        "else:\n",
        "  print(\"不是潤年\")"
      ],
      "execution_count": 31,
      "outputs": [
        {
          "output_type": "stream",
          "text": [
            "請輸入年份2012\n",
            "是潤年\n"
          ],
          "name": "stdout"
        }
      ]
    },
    {
      "cell_type": "markdown",
      "metadata": {
        "id": "nOhqS_FszNo0"
      },
      "source": [
        "**練習12：計程車計費**\n",
        "\n",
        "某城市計程車計費3公里以內6元，超過3公里不足10公里、每公里1.8元，超過10公里則超過部分加收50%。此外停車等候每3分鐘收1元，請用Python寫出車費是多少。"
      ]
    },
    {
      "cell_type": "code",
      "metadata": {
        "colab": {
          "base_uri": "https://localhost:8080/"
        },
        "id": "rrCPstH1cnvV",
        "outputId": "1a9216da-7c41-42d4-ecd4-71b75b53d003"
      },
      "source": [
        "km=int(input(\"km\"));\n",
        "min=int(input(\"min\"));\n",
        "money = int(0)\n",
        "wait = int(0)\n",
        "if km<3:\n",
        " money=km*6\n",
        " print(money)\n",
        " if min>3:\n",
        "  wait=min%3\n",
        "  money=money+wait\n",
        "  print(money)\n",
        "\n",
        "else: \n",
        " money=km*1.8\n",
        " if km>10:\n",
        "  money=money*1.5\n",
        "  if min>3:\n",
        "   wait=min%3\n",
        "   money=money+wait\n",
        "   print(money)\n"
      ],
      "execution_count": 61,
      "outputs": [
        {
          "output_type": "stream",
          "text": [
            "km20\n",
            "min10\n",
            "55.0\n"
          ],
          "name": "stdout"
        }
      ]
    }
  ]
}
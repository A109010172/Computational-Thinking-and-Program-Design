{
  "nbformat": 4,
  "nbformat_minor": 0,
  "metadata": {
    "colab": {
      "name": "李詠瑜-week4-練習作業.ipynb",
      "provenance": [],
      "authorship_tag": "ABX9TyO8ojEYVDIYQEY03TXg7zsh",
      "include_colab_link": true
    },
    "kernelspec": {
      "name": "python3",
      "display_name": "Python 3"
    }
  },
  "cells": [
    {
      "cell_type": "markdown",
      "metadata": {
        "id": "view-in-github",
        "colab_type": "text"
      },
      "source": [
        "<a href=\"https://colab.research.google.com/github/A109010172/Computational-Thinking-and-Program-Design/blob/main/%E6%9D%8E%E8%A9%A0%E7%91%9C_week4_%E7%B7%B4%E7%BF%92%E4%BD%9C%E6%A5%AD.ipynb\" target=\"_parent\"><img src=\"https://colab.research.google.com/assets/colab-badge.svg\" alt=\"Open In Colab\"/></a>"
      ]
    },
    {
      "cell_type": "markdown",
      "metadata": {
        "id": "pOYp6BIKWnCa"
      },
      "source": [
        "#隨堂作業\r\n",
        "**各單元重點摘要**\r\n",
        "\r\n",
        "#課後作業\r\n",
        "**從一則新聞報導，提出你對新聞系學生（OO系）為什麼要學「運算思維與程式設計」的見解。（告訴我新聞連結，以及你的觀點即可。）**"
      ]
    },
    {
      "cell_type": "markdown",
      "metadata": {
        "id": "ix4Mgm2jYAGO"
      },
      "source": [
        "[連結文字](https://)https://udn.com/news/story/6904/5204229\r\n",
        "\r\n",
        "在這篇報導中，高中生們都積極參與「高級中等學校AI實作二日營」，並分享他們對程式設計的看法，其中一名學生指出人工智慧可以像人類大腦一樣，處理各項問題，我對此亦有同感。我認為現在技科愈來愈發達，運算思維與程式設計這門課可以讓我們透過電腦把繁瑣的問題快速地解決，從而讓我們能更早的把新聞向外發佈。"
      ]
    }
  ]
}